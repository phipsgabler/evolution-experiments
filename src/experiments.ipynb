{
 "cells": [
  {
   "cell_type": "code",
   "execution_count": 68,
   "metadata": {},
   "outputs": [
    {
     "name": "stderr",
     "output_type": "stream",
     "text": [
      "WARNING: Method definition redirect_stderr(Function, Any) in module Compat at /home/philipp/.julia/v0.5/Compat/src/Compat.jl:1055 overwritten in module Compat at /home/philipp/.julia/v0.5/Compat/src/Compat.jl:1055.\n",
      "WARNING: Method definition redirect_stdin(Function, Any) in module Compat at /home/philipp/.julia/v0.5/Compat/src/Compat.jl:1055 overwritten in module Compat at /home/philipp/.julia/v0.5/Compat/src/Compat.jl:1055.\n",
      "WARNING: Method definition isnull(Any) in module Compat at /home/philipp/.julia/v0.5/Compat/src/Compat.jl:1135 overwritten in module Compat at /home/philipp/.julia/v0.5/Compat/src/Compat.jl:1135.\n",
      "WARNING: Method definition isassigned(Main.Base.RefValue) in module Compat at /home/philipp/.julia/v0.5/Compat/src/Compat.jl:1455 overwritten in module Compat at /home/philipp/.julia/v0.5/Compat/src/Compat.jl:1455.\n",
      "WARNING: Method definition zeros(AbstractArray) in module Compat at /home/philipp/.julia/v0.5/Compat/src/Compat.jl:1430 overwritten in module Compat at /home/philipp/.julia/v0.5/Compat/src/Compat.jl:1430.\n",
      "WARNING: Method definition zeros(AbstractArray, Type) in module Compat at /home/philipp/.julia/v0.5/Compat/src/Compat.jl:1430 overwritten in module Compat at /home/philipp/.julia/v0.5/Compat/src/Compat.jl:1430.\n",
      "WARNING: Method definition zeros(AbstractArray, Type, Tuple) in module Compat at /home/philipp/.julia/v0.5/Compat/src/Compat.jl:1428 overwritten in module Compat at /home/philipp/.julia/v0.5/Compat/src/Compat.jl:1428.\n",
      "WARNING: Method definition zeros(AbstractArray, Type, Any...) in module Compat at /home/philipp/.julia/v0.5/Compat/src/Compat.jl:1429 overwritten in module Compat at /home/philipp/.julia/v0.5/Compat/src/Compat.jl:1429.\n",
      "WARNING: Method definition broadcast(Any, Tuple{Vararg{T<:Any, #N<:Any}}, Tuple{Vararg{T<:Any, #N<:Any}}...) in module Compat at /home/philipp/.julia/v0.5/Compat/src/Compat.jl:1120 overwritten in module Compat at /home/philipp/.julia/v0.5/Compat/src/Compat.jl:1120.\n",
      "WARNING: Method definition take!(Task) in module Compat at /home/philipp/.julia/v0.5/Compat/src/Compat.jl:53 overwritten in module Compat at /home/philipp/.julia/v0.5/Compat/src/Compat.jl:53.\n",
      "WARNING: Method definition take!(Main.Base.AbstractIOBuffer) in module Compat at /home/philipp/.julia/v0.5/Compat/src/Compat.jl:1170 overwritten in module Compat at /home/philipp/.julia/v0.5/Compat/src/Compat.jl:1170.\n",
      "WARNING: Method definition convert(Type{Main.Base.Set{#T<:Any}}, Main.Base.Set{#T<:Any}) in module Compat at /home/philipp/.julia/v0.5/Compat/src/Compat.jl:1449 overwritten in module Compat at /home/philipp/.julia/v0.5/Compat/src/Compat.jl:1449.\n",
      "WARNING: Method definition convert(Type{Main.Base.Set{#T<:Any}}, Main.Base.Set) in module Compat at /home/philipp/.julia/v0.5/Compat/src/Compat.jl:1450 overwritten in module Compat at /home/philipp/.julia/v0.5/Compat/src/Compat.jl:1450.\n",
      "WARNING: Method definition ones(AbstractArray) in module Compat at /home/philipp/.julia/v0.5/Compat/src/Compat.jl:1430 overwritten in module Compat at /home/philipp/.julia/v0.5/Compat/src/Compat.jl:1430.\n",
      "WARNING: Method definition ones(AbstractArray, Type) in module Compat at /home/philipp/.julia/v0.5/Compat/src/Compat.jl:1430 overwritten in module Compat at /home/philipp/.julia/v0.5/Compat/src/Compat.jl:1430.\n",
      "WARNING: Method definition ones(AbstractArray, Type, Tuple) in module Compat at /home/philipp/.julia/v0.5/Compat/src/Compat.jl:1428 overwritten in module Compat at /home/philipp/.julia/v0.5/Compat/src/Compat.jl:1428.\n",
      "WARNING: Method definition ones(AbstractArray, Type, Any...) in module Compat at /home/philipp/.julia/v0.5/Compat/src/Compat.jl:1429 overwritten in module Compat at /home/philipp/.julia/v0.5/Compat/src/Compat.jl:1429.\n",
      "WARNING: Method definition !(Function) in module Compat at /home/philipp/.julia/v0.5/Compat/src/Compat.jl:1203 overwritten in module Compat at /home/philipp/.julia/v0.5/Compat/src/Compat.jl:1203.\n",
      "WARNING: Method definition unsafe_trunc(Type{#T<:Integer}, Integer) in module Compat at /home/philipp/.julia/v0.5/Compat/src/Compat.jl:1459 overwritten in module Compat at /home/philipp/.julia/v0.5/Compat/src/Compat.jl:1459.\n",
      "WARNING: Method definition redirect_stdout(Function, Any) in module Compat at /home/philipp/.julia/v0.5/Compat/src/Compat.jl:1055 overwritten in module Compat at /home/philipp/.julia/v0.5/Compat/src/Compat.jl:1055.\n",
      "WARNING: Method definition (::Type{Main.Base.LinearIndexing})(Type{#T<:Any}) in module Compat at /home/philipp/.julia/v0.5/Compat/src/Compat.jl:1420 overwritten in module Compat at /home/philipp/.julia/v0.5/Compat/src/Compat.jl:1420.\n",
      "WARNING: Method definition (::Type{Main.Base.LinearIndexing})(Any...) in module Compat at /home/philipp/.julia/v0.5/Compat/src/Compat.jl:1421 overwritten in module Compat at /home/philipp/.julia/v0.5/Compat/src/Compat.jl:1421.\n",
      "WARNING: Method definition sort(Main.Base.Dict) in module DataStructures at /home/philipp/.julia/v0.5/DataStructures/src/dict_sorting.jl:27 overwritten in module DataStructures at /home/philipp/.julia/v0.5/DataStructures/src/dict_sorting.jl:27.\n",
      "WARNING: Method definition #sort(Array{Any, 1}, Main.Base.#sort, Main.Base.Dict) in module DataStructures overwritten in module DataStructures.\n",
      "WARNING: Method definition quantile(AbstractArray{#T<:Real, N<:Any}) in module StatsBase at /home/philipp/.julia/v0.5/StatsBase/src/scalarstats.jl:213 overwritten in module StatsBase at /home/philipp/.julia/v0.5/StatsBase/src/scalarstats.jl:213.\n",
      "WARNING: Method definition stdm(AbstractArray{T<:Real, N<:Any}, AbstractArray{T<:Real, N<:Any}, Int64) in module StatsBase at /home/philipp/.julia/v0.5/StatsBase/src/moments.jl:98 overwritten in module StatsBase at /home/philipp/.julia/v0.5/StatsBase/src/moments.jl:98.\n",
      "WARNING: Method definition convert(Type{Float32}, Main.Base.Irrational{:twoπ}) in module StatsFuns at irrationals.jl:110 overwritten in module StatsFuns at irrationals.jl:110.\n",
      "WARNING: Method definition convert(Type{Float32}, Main.Base.Irrational{:fourπ}) in module StatsFuns at irrationals.jl:110 overwritten in module StatsFuns at irrationals.jl:110.\n",
      "WARNING: Method definition convert(Type{Float32}, Main.Base.Irrational{:halfπ}) in module StatsFuns at irrationals.jl:110 overwritten in module StatsFuns at irrationals.jl:110.\n",
      "WARNING: Method definition convert(Type{Float32}, Main.Base.Irrational{:quartπ}) in module StatsFuns at irrationals.jl:110 overwritten in module StatsFuns at irrationals.jl:110.\n",
      "WARNING: Method definition convert(Type{Float32}, Main.Base.Irrational{:invπ}) in module StatsFuns at irrationals.jl:110 overwritten in module StatsFuns at irrationals.jl:110.\n",
      "WARNING: Method definition convert(Type{Float32}, Main.Base.Irrational{:twoinvπ}) in module StatsFuns at irrationals.jl:110 overwritten in module StatsFuns at irrationals.jl:110.\n",
      "WARNING: Method definition convert(Type{Float32}, Main.Base.Irrational{:fourinvπ}) in module StatsFuns at irrationals.jl:110 overwritten in module StatsFuns at irrationals.jl:110.\n",
      "WARNING: Method definition convert(Type{Float32}, Main.Base.Irrational{:inv2π}) in module StatsFuns at irrationals.jl:110 overwritten in module StatsFuns at irrationals.jl:110.\n",
      "WARNING: Method definition convert(Type{Float32}, Main.Base.Irrational{:inv4π}) in module StatsFuns at irrationals.jl:110 overwritten in module StatsFuns at irrationals.jl:110.\n",
      "WARNING: Method definition convert(Type{Float32}, Main.Base.Irrational{:sqrt2}) in module StatsFuns at irrationals.jl:110 overwritten in module StatsFuns at irrationals.jl:110.\n",
      "WARNING: Method definition convert(Type{Float32}, Main.Base.Irrational{:sqrt3}) in module StatsFuns at irrationals.jl:110 overwritten in module StatsFuns at irrationals.jl:110.\n",
      "WARNING: Method definition convert(Type{Float32}, Main.Base.Irrational{:sqrtπ}) in module StatsFuns at irrationals.jl:110 overwritten in module StatsFuns at irrationals.jl:110.\n",
      "WARNING: Method definition convert(Type{Float32}, Main.Base.Irrational{:sqrt2π}) in module StatsFuns at irrationals.jl:110 overwritten in module StatsFuns at irrationals.jl:110.\n",
      "WARNING: Method definition convert(Type{Float32}, Main.Base.Irrational{:sqrt4π}) in module StatsFuns at irrationals.jl:110 overwritten in module StatsFuns at irrationals.jl:110.\n",
      "WARNING: Method definition convert(Type{Float32}, Main.Base.Irrational{:sqrthalfπ}) in module StatsFuns at irrationals.jl:110 overwritten in module StatsFuns at irrationals.jl:110.\n",
      "WARNING: Method definition convert(Type{Float32}, Main.Base.Irrational{:invsqrt2}) in module StatsFuns at irrationals.jl:110 overwritten in module StatsFuns at irrationals.jl:110.\n",
      "WARNING: Method definition convert(Type{Float32}, Main.Base.Irrational{:invsqrt2π}) in module StatsFuns at irrationals.jl:110 overwritten in module StatsFuns at irrationals.jl:110.\n",
      "WARNING: Method definition convert(Type{Float32}, Main.Base.Irrational{:loghalf}) in module StatsFuns at irrationals.jl:110 overwritten in module StatsFuns at irrationals.jl:110.\n",
      "WARNING: Method definition convert(Type{Float32}, Main.Base.Irrational{:logtwo}) in module StatsFuns at irrationals.jl:110 overwritten in module StatsFuns at irrationals.jl:110.\n",
      "WARNING: Method definition convert(Type{Float32}, Main.Base.Irrational{:logπ}) in module StatsFuns at irrationals.jl:110 overwritten in module StatsFuns at irrationals.jl:110.\n",
      "WARNING: Method definition convert(Type{Float32}, Main.Base.Irrational{:log2π}) in module StatsFuns at irrationals.jl:110 overwritten in module StatsFuns at irrationals.jl:110.\n",
      "WARNING: Method definition convert(Type{Float32}, Main.Base.Irrational{:log4π}) in module StatsFuns at irrationals.jl:110 overwritten in module StatsFuns at irrationals.jl:110.\n",
      "WARNING: Method definition convert(Type{Float64}, Main.Base.Irrational{:twoπ}) in module StatsFuns at irrationals.jl:109 overwritten in module StatsFuns at irrationals.jl:109.\n",
      "WARNING: Method definition convert(Type{Float64}, Main.Base.Irrational{:fourπ}) in module StatsFuns at irrationals.jl:109 overwritten in module StatsFuns at irrationals.jl:109.\n",
      "WARNING: Method definition convert(Type{Float64}, Main.Base.Irrational{:halfπ}) in module StatsFuns at irrationals.jl:109 overwritten in module StatsFuns at irrationals.jl:109.\n",
      "WARNING: Method definition convert(Type{Float64}, Main.Base.Irrational{:quartπ}) in module StatsFuns at irrationals.jl:109 overwritten in module StatsFuns at irrationals.jl:109.\n",
      "WARNING: Method definition convert(Type{Float64}, Main.Base.Irrational{:invπ}) in module StatsFuns at irrationals.jl:109 overwritten in module StatsFuns at irrationals.jl:109.\n",
      "WARNING: Method definition convert(Type{Float64}, Main.Base.Irrational{:twoinvπ}) in module StatsFuns at irrationals.jl:109 overwritten in module StatsFuns at irrationals.jl:109.\n",
      "WARNING: Method definition convert(Type{Float64}, Main.Base.Irrational{:fourinvπ}) in module StatsFuns at irrationals.jl:109 overwritten in module StatsFuns at irrationals.jl:109.\n",
      "WARNING: Method definition convert(Type{Float64}, Main.Base.Irrational{:inv2π}) in module StatsFuns at irrationals.jl:109 overwritten in module StatsFuns at irrationals.jl:109.\n",
      "WARNING: Method definition convert(Type{Float64}, Main.Base.Irrational{:inv4π}) in module StatsFuns at irrationals.jl:109 overwritten in module StatsFuns at irrationals.jl:109.\n",
      "WARNING: Method definition convert(Type{Float64}, Main.Base.Irrational{:sqrt2}) in module StatsFuns at irrationals.jl:109 overwritten in module StatsFuns at irrationals.jl:109.\n",
      "WARNING: Method definition convert(Type{Float64}, Main.Base.Irrational{:sqrt3}) in module StatsFuns at irrationals.jl:109 overwritten in module StatsFuns at irrationals.jl:109.\n",
      "WARNING: Method definition convert(Type{Float64}, Main.Base.Irrational{:sqrtπ}) in module StatsFuns at irrationals.jl:109 overwritten in module StatsFuns at irrationals.jl:109.\n",
      "WARNING: Method definition convert(Type{Float64}, Main.Base.Irrational{:sqrt2π}) in module StatsFuns at irrationals.jl:109 overwritten in module StatsFuns at irrationals.jl:109.\n",
      "WARNING: Method definition convert(Type{Float64}, Main.Base.Irrational{:sqrt4π}) in module StatsFuns at irrationals.jl:109 overwritten in module StatsFuns at irrationals.jl:109.\n",
      "WARNING: Method definition convert(Type{Float64}, Main.Base.Irrational{:sqrthalfπ}) in module StatsFuns at irrationals.jl:109 overwritten in module StatsFuns at irrationals.jl:109.\n",
      "WARNING: Method definition convert(Type{Float64}, Main.Base.Irrational{:invsqrt2}) in module StatsFuns at irrationals.jl:109 overwritten in module StatsFuns at irrationals.jl:109.\n",
      "WARNING: Method definition convert(Type{Float64}, Main.Base.Irrational{:invsqrt2π}) in module StatsFuns at irrationals.jl:109 overwritten in module StatsFuns at irrationals.jl:109.\n",
      "WARNING: Method definition convert(Type{Float64}, Main.Base.Irrational{:loghalf}) in module StatsFuns at irrationals.jl:109 overwritten in module StatsFuns at irrationals.jl:109.\n",
      "WARNING: Method definition convert(Type{Float64}, Main.Base.Irrational{:logtwo}) in module StatsFuns at irrationals.jl:109 overwritten in module StatsFuns at irrationals.jl:109.\n",
      "WARNING: Method definition convert(Type{Float64}, Main.Base.Irrational{:logπ}) in module StatsFuns at irrationals.jl:109 overwritten in module StatsFuns at irrationals.jl:109.\n",
      "WARNING: Method definition convert(Type{Float64}, Main.Base.Irrational{:log2π}) in module StatsFuns at irrationals.jl:109 overwritten in module StatsFuns at irrationals.jl:109.\n",
      "WARNING: Method definition convert(Type{Float64}, Main.Base.Irrational{:log4π}) in module StatsFuns at irrationals.jl:109 overwritten in module StatsFuns at irrationals.jl:109.\n",
      "WARNING: Method definition convert(Type{Main.Base.MPFR.BigFloat}, Main.Base.Irrational{:twoπ}) in module StatsFuns at irrationals.jl:104 overwritten in module StatsFuns at irrationals.jl:104.\n",
      "WARNING: Method definition convert(Type{Main.Base.MPFR.BigFloat}, Main.Base.Irrational{:fourπ}) in module StatsFuns at irrationals.jl:104 overwritten in module StatsFuns at irrationals.jl:104.\n",
      "WARNING: Method definition convert(Type{Main.Base.MPFR.BigFloat}, Main.Base.Irrational{:halfπ}) in module StatsFuns at irrationals.jl:104 overwritten in module StatsFuns at irrationals.jl:104.\n",
      "WARNING: Method definition convert(Type{Main.Base.MPFR.BigFloat}, Main.Base.Irrational{:quartπ}) in module StatsFuns at irrationals.jl:104 overwritten in module StatsFuns at irrationals.jl:104.\n",
      "WARNING: Method definition convert(Type{Main.Base.MPFR.BigFloat}, Main.Base.Irrational{:invπ}) in module StatsFuns at irrationals.jl:104 overwritten in module StatsFuns at irrationals.jl:104.\n",
      "WARNING: Method definition convert(Type{Main.Base.MPFR.BigFloat}, Main.Base.Irrational{:twoinvπ}) in module StatsFuns at irrationals.jl:104 overwritten in module StatsFuns at irrationals.jl:104.\n",
      "WARNING: Method definition convert(Type{Main.Base.MPFR.BigFloat}, Main.Base.Irrational{:fourinvπ}) in module StatsFuns at irrationals.jl:104 overwritten in module StatsFuns at irrationals.jl:104.\n",
      "WARNING: Method definition convert(Type{Main.Base.MPFR.BigFloat}, Main.Base.Irrational{:inv2π}) in module StatsFuns at irrationals.jl:104 overwritten in module StatsFuns at irrationals.jl:104.\n",
      "WARNING: Method definition convert(Type{Main.Base.MPFR.BigFloat}, Main.Base.Irrational{:inv4π}) in module StatsFuns at irrationals.jl:104 overwritten in module StatsFuns at irrationals.jl:104.\n",
      "WARNING: Method definition convert(Type{Main.Base.MPFR.BigFloat}, Main.Base.Irrational{:sqrt2}) in module StatsFuns at irrationals.jl:104 overwritten in module StatsFuns at irrationals.jl:104.\n",
      "WARNING: Method definition convert(Type{Main.Base.MPFR.BigFloat}, Main.Base.Irrational{:sqrt3}) in module StatsFuns at irrationals.jl:104 overwritten in module StatsFuns at irrationals.jl:104.\n",
      "WARNING: Method definition convert(Type{Main.Base.MPFR.BigFloat}, Main.Base.Irrational{:sqrtπ}) in module StatsFuns at irrationals.jl:104 overwritten in module StatsFuns at irrationals.jl:104.\n",
      "WARNING: Method definition convert(Type{Main.Base.MPFR.BigFloat}, Main.Base.Irrational{:sqrt2π}) in module StatsFuns at irrationals.jl:104 overwritten in module StatsFuns at irrationals.jl:104.\n",
      "WARNING: Method definition convert(Type{Main.Base.MPFR.BigFloat}, Main.Base.Irrational{:sqrt4π}) in module StatsFuns at irrationals.jl:104 overwritten in module StatsFuns at irrationals.jl:104.\n",
      "WARNING: Method definition convert(Type{Main.Base.MPFR.BigFloat}, Main.Base.Irrational{:sqrthalfπ}) in module StatsFuns at irrationals.jl:104 overwritten in module StatsFuns at irrationals.jl:104.\n",
      "WARNING: Method definition convert(Type{Main.Base.MPFR.BigFloat}, Main.Base.Irrational{:invsqrt2}) in module StatsFuns at irrationals.jl:104 overwritten in module StatsFuns at irrationals.jl:104.\n",
      "WARNING: Method definition convert(Type{Main.Base.MPFR.BigFloat}, Main.Base.Irrational{:invsqrt2π}) in module StatsFuns at irrationals.jl:104 overwritten in module StatsFuns at irrationals.jl:104.\n",
      "WARNING: Method definition convert(Type{Main.Base.MPFR.BigFloat}, Main.Base.Irrational{:loghalf}) in module StatsFuns at irrationals.jl:104 overwritten in module StatsFuns at irrationals.jl:104.\n",
      "WARNING: Method definition convert(Type{Main.Base.MPFR.BigFloat}, Main.Base.Irrational{:logtwo}) in module StatsFuns at irrationals.jl:104 overwritten in module StatsFuns at irrationals.jl:104.\n",
      "WARNING: Method definition convert(Type{Main.Base.MPFR.BigFloat}, Main.Base.Irrational{:logπ}) in module StatsFuns at irrationals.jl:104 overwritten in module StatsFuns at irrationals.jl:104.\n",
      "WARNING: Method definition convert(Type{Main.Base.MPFR.BigFloat}, Main.Base.Irrational{:log2π}) in module StatsFuns at irrationals.jl:104 overwritten in module StatsFuns at irrationals.jl:104.\n",
      "WARNING: Method definition convert(Type{Main.Base.MPFR.BigFloat}, Main.Base.Irrational{:log4π}) in module StatsFuns at irrationals.jl:104 overwritten in module StatsFuns at irrationals.jl:104.\n"
     ]
    },
    {
     "data": {
      "text/plain": [
       "apply_crossover (generic function with 1 method)"
      ]
     },
     "execution_count": 68,
     "metadata": {},
     "output_type": "execute_result"
    }
   ],
   "source": [
    "workspace()\n",
    "include(\"evolution.jl\")\n",
    "#using Evolution"
   ]
  },
  {
   "cell_type": "code",
   "execution_count": 69,
   "metadata": {},
   "outputs": [
    {
     "data": {
      "text/plain": [
       "mutate (generic function with 1 method)"
      ]
     },
     "execution_count": 69,
     "metadata": {},
     "output_type": "execute_result"
    }
   ],
   "source": [
    "create_entity(i) = rand(Int, 5) % 43\n",
    "\n",
    "# we want the expression `a + 2b + 3c + 4d + 5e - 42`\n",
    "# to be as close to 0 as possible\n",
    "fitness(ent) = abs(dot(1:5, ent) - 42)\n",
    "\n",
    "crossover(m, f) = [rand([m, f])[i] for i = 1:5]\n",
    "\n",
    "function mutate(ent)\n",
    "    result = ent\n",
    "    result[rand(1:5)] = rand(Int) % 43\n",
    "    result\n",
    "end"
   ]
  },
  {
   "cell_type": "code",
   "execution_count": 83,
   "metadata": {},
   "outputs": [
    {
     "name": "stdout",
     "output_type": "stream",
     "text": [
      "select(fitnesses,1) = 0\n",
      "dot(ans[1],1:5) = 42\n"
     ]
    },
    {
     "name": "stderr",
     "output_type": "stream",
     "text": [
      "WARNING: Method definition debug_ga() in module Main at In[82]:2 overwritten at In[83]:2.\n",
      "WARNING: Method definition #debug_ga(Array{Any, 1}, Main.#debug_ga) in module Main overwritten.\n",
      "WARNING: Method definition debug_ga_no() in module Main at In[82]:8 overwritten at In[83]:8.\n",
      "WARNING: Method definition #debug_ga_no(Array{Any, 1}, Main.#debug_ga_no) in module Main overwritten.\n"
     ]
    },
    {
     "data": {
      "text/plain": [
       "10-element Array{Array{Int64,1},1}:\n",
       " [0,40,31,1,-27]\n",
       " [0,40,31,1,-27]\n",
       " [0,40,31,1,-27]\n",
       " [0,40,31,1,-27]\n",
       " [0,40,31,1,-27]\n",
       " [0,40,31,1,-27]\n",
       " [0,40,31,1,-27]\n",
       " [0,40,31,1,-27]\n",
       " [0,40,31,1,-27]\n",
       " [0,40,31,1,-27]"
      ]
     },
     "execution_count": 83,
     "metadata": {},
     "output_type": "execute_result"
    }
   ],
   "source": [
    "function debug_ga(;generation = 0, population = [], fitness = [], args...)\n",
    "    if generation % 10 == 0\n",
    "        @show population\n",
    "        @show select(fitness, 1, rev = true)\n",
    "    end\n",
    "end\n",
    "\n",
    "debug_ga_no(;args...) = return\n",
    "\n",
    "ans, fitnesses = runga(fitness, create_entity, crossover = crossover, mutate = mutate, debug = debug_ga_no)\n",
    "@show select(fitnesses, 1)\n",
    "@show dot(ans[1], 1:5)\n",
    "ans"
   ]
  }
 ],
 "metadata": {
  "anaconda-cloud": {},
  "kernelspec": {
   "display_name": "Julia 0.5.1",
   "language": "julia",
   "name": "julia-0.5"
  },
  "language_info": {
   "file_extension": ".jl",
   "mimetype": "application/julia",
   "name": "julia",
   "version": "0.5.1"
  }
 },
 "nbformat": 4,
 "nbformat_minor": 1
}
